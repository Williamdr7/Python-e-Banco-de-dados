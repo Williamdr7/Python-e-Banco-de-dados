{
 "cells": [
  {
   "cell_type": "code",
   "execution_count": 22,
   "metadata": {},
   "outputs": [
    {
     "ename": "OperationalError",
     "evalue": "table profs already exists",
     "output_type": "error",
     "traceback": [
      "\u001b[1;31m---------------------------------------------------------------------------\u001b[0m",
      "\u001b[1;31mOperationalError\u001b[0m                          Traceback (most recent call last)",
      "\u001b[1;32m<ipython-input-22-aa90ad04163f>\u001b[0m in \u001b[0;36m<module>\u001b[1;34m\u001b[0m\n\u001b[0;32m      7\u001b[0m              \u001b[1;34m'prof varchar(100), '\u001b[0m\u001b[0;31m \u001b[0m\u001b[0;31m\\\u001b[0m\u001b[1;33m\u001b[0m\u001b[1;33m\u001b[0m\u001b[0m\n\u001b[0;32m      8\u001b[0m              \u001b[1;34m'salario varint(140))'\u001b[0m\u001b[1;33m\u001b[0m\u001b[1;33m\u001b[0m\u001b[0m\n\u001b[1;32m----> 9\u001b[1;33m \u001b[0mcur\u001b[0m\u001b[1;33m.\u001b[0m\u001b[0mexecute\u001b[0m\u001b[1;33m(\u001b[0m\u001b[0msql_create\u001b[0m\u001b[1;33m)\u001b[0m\u001b[1;33m\u001b[0m\u001b[1;33m\u001b[0m\u001b[0m\n\u001b[0m\u001b[0;32m     10\u001b[0m \u001b[1;33m\u001b[0m\u001b[0m\n\u001b[0;32m     11\u001b[0m \u001b[0msql_insert\u001b[0m \u001b[1;33m=\u001b[0m \u001b[1;34m\"insert into profs values(?,?,?)\"\u001b[0m\u001b[1;33m\u001b[0m\u001b[1;33m\u001b[0m\u001b[0m\n",
      "\u001b[1;31mOperationalError\u001b[0m: table profs already exists"
     ]
    }
   ],
   "source": [
    "import sqlite3\n",
    "\n",
    "con = sqlite3.connect(\"profissoes\")\n",
    "cur = con.cursor()\n",
    "sql_create = 'create table profs' \\\n",
    "             '(id integer primary key, ' \\\n",
    "             'prof varchar(100), ' \\\n",
    "             'salario varint(140))'\n",
    "cur.execute(sql_create)\n",
    "\n",
    "sql_insert = \"insert into profs values(?,?,?)\"\n",
    "\n",
    "dados = [(1000, 'professor', 1500), (1001, 'desenvolvedor', 1500)]\n",
    "\n",
    "for i in dados:\n",
    "    cur.execute(sql_insert, i)\n",
    "\n",
    "con.commit()\n",
    "\n",
    "for linha in dados:\n",
    "    print(\"profs %d, Prof %s, Salario %i \\n\" % linha)\n",
    "    \n",
    "regravar = cur.fetchall()\n",
    "\n",
    "for linha in regravar:\n",
    "    print(\"profs %d, Prof %s, Salario %i \\n\" % linha)\n",
    "\n"
   ]
  },
  {
   "cell_type": "code",
   "execution_count": null,
   "metadata": {},
   "outputs": [],
   "source": []
  }
 ],
 "metadata": {
  "kernelspec": {
   "display_name": "Python 3",
   "language": "python",
   "name": "python3"
  },
  "language_info": {
   "codemirror_mode": {
    "name": "ipython",
    "version": 3
   },
   "file_extension": ".py",
   "mimetype": "text/x-python",
   "name": "python",
   "nbconvert_exporter": "python",
   "pygments_lexer": "ipython3",
   "version": "3.7.4"
  }
 },
 "nbformat": 4,
 "nbformat_minor": 2
}
